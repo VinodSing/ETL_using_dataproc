{
 "cells": [
  {
   "cell_type": "code",
   "execution_count": null,
   "metadata": {},
   "outputs": [],
   "source": [
    "# Set up project_id and region\n",
    "\n",
    "!gcloud config set project <project_name>\n",
    "!gcloud config set dataproc/region <region> "
   ]
  },
  {
   "cell_type": "code",
   "execution_count": null,
   "metadata": {},
   "outputs": [],
   "source": [
    "# Set up variables for Template\n",
    "\n",
    "TEMPLATE_ID = 'workflow-template-newsparkgcp'\n",
    "REGION = '<region>'\n",
    "PROJECT_ID = '<project_id>'"
   ]
  },
  {
   "cell_type": "code",
   "execution_count": null,
   "metadata": {},
   "outputs": [],
   "source": [
    "# Create Workflow Template to run series of jobs\n",
    "!gcloud dataproc workflow-templates create $TEMPLATE_ID --region $REGION"
   ]
  },
  {
   "cell_type": "code",
   "execution_count": null,
   "metadata": {},
   "outputs": [],
   "source": [
    "# Create Dataproc Cluster to submit the jobs \n",
    "# Below command is to create a short lived cluster which will automatically get deleted once the execution is complete.\n",
    "\n",
    "!gcloud dataproc workflow-templates set-managed-cluster $TEMPLATE_ID --region $REGION --cluster-name <name_of_cluster> --image-version 1.4 "
   ]
  },
  {
   "cell_type": "code",
   "execution_count": null,
   "metadata": {},
   "outputs": [],
   "source": [
    "# Attach the scripts which needs to be executed in workflow template.\n",
    "# Below cmd attaches a pyspark script stored in a GCS location.\n",
    "\n",
    "!gcloud dataproc workflow-templates add-job pyspark <gcs_path_of_pyspark_script> --step-id=<give_this_job_a_name> --workflow-template=$TEMPLATE_ID --region $REGION"
   ]
  },
  {
   "cell_type": "code",
   "execution_count": null,
   "metadata": {},
   "outputs": [],
   "source": [
    "# Below cmd attaches a spark-sql job to template\n",
    "\n",
    "!gcloud dataproc workflow-templates add-job spark-sql --step-id=<give_this_job_a_name> --file=<gcs_path_of_spark-sql_file> --params=\"bucket_name=<gcs_path>, table_name=<table_name>\" --workflow-template=$TEMPLATE_ID --region=$REGION --start-after=<name_of_script_which_needs_to_execute_before_this_script>"
   ]
  },
  {
   "cell_type": "code",
   "execution_count": null,
   "metadata": {},
   "outputs": [],
   "source": [
    "# Invoke workflow template\n",
    "\n",
    "!gcloud dataproc workflow-templates instantiate $TEMPLATE_ID --region=$REGION"
   ]
  }
 ],
 "metadata": {
  "language_info": {
   "name": "python"
  }
 },
 "nbformat": 4,
 "nbformat_minor": 2
}
